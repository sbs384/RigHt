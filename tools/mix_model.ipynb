{
 "cells": [
  {
   "cell_type": "code",
   "execution_count": 1,
   "metadata": {},
   "outputs": [
    {
     "name": "stderr",
     "output_type": "stream",
     "text": [
      "/home/zhaobo/anaconda3/envs/torch/lib/python3.8/site-packages/tqdm/auto.py:22: TqdmWarning: IProgress not found. Please update jupyter and ipywidgets. See https://ipywidgets.readthedocs.io/en/stable/user_install.html\n",
      "  from .autonotebook import tqdm as notebook_tqdm\n",
      "Some weights of the model checkpoint at /home/zhaobo/hf_models/biobert_base_cased_v1.1 were not used when initializing BertModel: ['cls.predictions.transform.dense.bias', 'cls.predictions.decoder.weight', 'cls.predictions.bias', 'cls.predictions.transform.LayerNorm.bias', 'cls.predictions.decoder.bias', 'cls.predictions.transform.LayerNorm.weight', 'cls.predictions.transform.dense.weight']\n",
      "- This IS expected if you are initializing BertModel from the checkpoint of a model trained on another task or with another architecture (e.g. initializing a BertForSequenceClassification model from a BertForPreTraining model).\n",
      "- This IS NOT expected if you are initializing BertModel from the checkpoint of a model that you expect to be exactly identical (initializing a BertForSequenceClassification model from a BertForSequenceClassification model).\n",
      "Some weights of BertModel were not initialized from the model checkpoint at /home/zhaobo/hf_models/biobert_base_cased_v1.1 and are newly initialized: ['bert.pooler.dense.bias', 'bert.pooler.dense.weight']\n",
      "You should probably TRAIN this model on a down-stream task to be able to use it for predictions and inference.\n"
     ]
    }
   ],
   "source": [
    "from transformers import BertModel,BertForMaskedLM\n",
    "\n",
    "model1=BertModel.from_pretrained('/home/zhaobo/hf_models/biobert_base_cased_v1.1')\n",
    "model2=BertForMaskedLM.from_pretrained('/home/zhaobo/hf_models/biobert_base_cased_v1.2')"
   ]
  },
  {
   "cell_type": "code",
   "execution_count": 2,
   "metadata": {},
   "outputs": [],
   "source": [
    "dic1=model1.state_dict()\n",
    "dic2=model2.state_dict()"
   ]
  },
  {
   "cell_type": "code",
   "execution_count": 15,
   "metadata": {},
   "outputs": [],
   "source": [
    "import json\n",
    "\n",
    "with open('./v1.1_keys.json','w') as f:\n",
    "    json.dump(list(dic1.keys()),f,indent=4)\n",
    "with open('./v1.2_keys.json','w') as f:\n",
    "    json.dump(list(dic2.keys()),f,indent=4)"
   ]
  },
  {
   "cell_type": "code",
   "execution_count": 3,
   "metadata": {},
   "outputs": [],
   "source": [
    "for k1, v1 in dic1.items():\n",
    "    k2 = 'bert.' + k1\n",
    "    if k2 in dic2:\n",
    "        dic2[k2] = v1\n"
   ]
  },
  {
   "cell_type": "code",
   "execution_count": 4,
   "metadata": {},
   "outputs": [
    {
     "data": {
      "text/plain": [
       "<All keys matched successfully>"
      ]
     },
     "execution_count": 4,
     "metadata": {},
     "output_type": "execute_result"
    }
   ],
   "source": [
    "model2.load_state_dict(dic2)"
   ]
  },
  {
   "cell_type": "code",
   "execution_count": 5,
   "metadata": {},
   "outputs": [
    {
     "name": "stdout",
     "output_type": "stream",
     "text": [
      "('bert.embeddings.word_embeddings.weight', Parameter containing:\n",
      "tensor([[-0.0265, -0.0074, -0.0290,  ..., -0.0363, -0.0341,  0.0183],\n",
      "        [-0.0116,  0.0133, -0.0578,  ..., -0.0236, -0.0681, -0.0066],\n",
      "        [ 0.0233,  0.0052, -0.0251,  ..., -0.0698, -0.0221, -0.0255],\n",
      "        ...,\n",
      "        [-0.0297, -0.0520, -0.0594,  ..., -0.0552, -0.0592,  0.0144],\n",
      "        [-0.0454,  0.0151, -0.0613,  ..., -0.0792, -0.0300, -0.0051],\n",
      "        [ 0.0303, -0.0056, -0.0408,  ..., -0.0215, -0.0521, -0.0016]],\n",
      "       requires_grad=True))\n"
     ]
    }
   ],
   "source": [
    "for p in model2.named_parameters():\n",
    "    print(p)\n",
    "    break"
   ]
  },
  {
   "cell_type": "code",
   "execution_count": 6,
   "metadata": {},
   "outputs": [
    {
     "name": "stdout",
     "output_type": "stream",
     "text": [
      "('embeddings.word_embeddings.weight', Parameter containing:\n",
      "tensor([[-0.0265, -0.0074, -0.0290,  ..., -0.0363, -0.0341,  0.0183],\n",
      "        [-0.0116,  0.0133, -0.0578,  ..., -0.0236, -0.0681, -0.0066],\n",
      "        [ 0.0233,  0.0052, -0.0251,  ..., -0.0698, -0.0221, -0.0255],\n",
      "        ...,\n",
      "        [-0.0297, -0.0520, -0.0594,  ..., -0.0552, -0.0592,  0.0144],\n",
      "        [-0.0454,  0.0151, -0.0613,  ..., -0.0792, -0.0300, -0.0051],\n",
      "        [ 0.0303, -0.0056, -0.0408,  ..., -0.0215, -0.0521, -0.0016]],\n",
      "       requires_grad=True))\n"
     ]
    }
   ],
   "source": [
    "for p in model1.named_parameters():\n",
    "    print(p)\n",
    "    break"
   ]
  },
  {
   "cell_type": "code",
   "execution_count": 7,
   "metadata": {},
   "outputs": [],
   "source": [
    "model2.save_pretrained('/home/zhaobo/hf_models/biobert_base_cased_mix/')"
   ]
  },
  {
   "cell_type": "code",
   "execution_count": 8,
   "metadata": {},
   "outputs": [],
   "source": [
    "from transformers import AutoTokenizer\n",
    "tokenizer=AutoTokenizer.from_pretrained('/home/zhaobo/hf_models/biobert_base_cased_v1.1')"
   ]
  },
  {
   "cell_type": "code",
   "execution_count": 9,
   "metadata": {},
   "outputs": [
    {
     "data": {
      "text/plain": [
       "('/home/zhaobo/hf_models/biobert_base_cased_mix/tokenizer_config.json',\n",
       " '/home/zhaobo/hf_models/biobert_base_cased_mix/special_tokens_map.json',\n",
       " '/home/zhaobo/hf_models/biobert_base_cased_mix/vocab.txt',\n",
       " '/home/zhaobo/hf_models/biobert_base_cased_mix/added_tokens.json',\n",
       " '/home/zhaobo/hf_models/biobert_base_cased_mix/tokenizer.json')"
      ]
     },
     "execution_count": 9,
     "metadata": {},
     "output_type": "execute_result"
    }
   ],
   "source": [
    "tokenizer.save_pretrained('/home/zhaobo/hf_models/biobert_base_cased_mix/')"
   ]
  },
  {
   "cell_type": "code",
   "execution_count": null,
   "metadata": {},
   "outputs": [],
   "source": []
  }
 ],
 "metadata": {
  "kernelspec": {
   "display_name": "torch",
   "language": "python",
   "name": "python3"
  },
  "language_info": {
   "codemirror_mode": {
    "name": "ipython",
    "version": 3
   },
   "file_extension": ".py",
   "mimetype": "text/x-python",
   "name": "python",
   "nbconvert_exporter": "python",
   "pygments_lexer": "ipython3",
   "version": "3.8.13"
  },
  "orig_nbformat": 4
 },
 "nbformat": 4,
 "nbformat_minor": 2
}

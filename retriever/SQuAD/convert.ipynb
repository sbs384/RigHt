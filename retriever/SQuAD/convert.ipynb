{
 "cells": [
  {
   "cell_type": "code",
   "execution_count": 2,
   "metadata": {},
   "outputs": [],
   "source": [
    "import os\n",
    "import re\n",
    "import json\n",
    "import numpy as np\n",
    "import random\n",
    "from sklearn.model_selection import train_test_split\n",
    "\n",
    "SEED=42\n",
    "\n",
    "def set_seed(seed):\n",
    "    random.seed(seed)\n",
    "    np.random.seed(seed)\n",
    "set_seed(SEED)"
   ]
  },
  {
   "cell_type": "code",
   "execution_count": 12,
   "metadata": {},
   "outputs": [],
   "source": [
    "reqa_json='../../../data/SQuAD/train.json'\n",
    "reqa_test_json='../../../data/SQuAD/test.json'\n",
    "output_dir='../../../data/squad_formatted/'"
   ]
  },
  {
   "cell_type": "code",
   "execution_count": 4,
   "metadata": {},
   "outputs": [
    {
     "data": {
      "text/plain": [
       "dict_keys(['questions', 'question_ids', 'answers'])"
      ]
     },
     "execution_count": 4,
     "metadata": {},
     "output_type": "execute_result"
    }
   ],
   "source": [
    "with open(reqa_json) as f:\n",
    "    data=json.load(f)\n",
    "data.keys()"
   ]
  },
  {
   "cell_type": "code",
   "execution_count": 5,
   "metadata": {},
   "outputs": [],
   "source": [
    "for key in data:\n",
    "    for i in range(len(data[key])):\n",
    "        if isinstance(data[key][i],str):\n",
    "            data[key][i]=data[key][i].replace('\\n',' ')"
   ]
  },
  {
   "cell_type": "code",
   "execution_count": 6,
   "metadata": {},
   "outputs": [
    {
     "name": "stdout",
     "output_type": "stream",
     "text": [
      "size of q-a pairs: 87599\n",
      "size of unique answers: 58934\n",
      "size of unique questions: 87355\n"
     ]
    }
   ],
   "source": [
    "print('size of q-a pairs:',len(data['questions']))\n",
    "print(f'size of unique answers:',len(set(data['answers'])))\n",
    "print(f'size of unique questions:',len(set(data['questions'])))"
   ]
  },
  {
   "cell_type": "code",
   "execution_count": 7,
   "metadata": {},
   "outputs": [
    {
     "name": "stdout",
     "output_type": "stream",
     "text": [
      "train size 78839 dev size 8760\n"
     ]
    }
   ],
   "source": [
    "set_seed(SEED)\n",
    "data_arr=list(zip(data['questions'],data['answers']))\n",
    "random.shuffle(data_arr)\n",
    "train,dev=train_test_split(data_arr,test_size=0.1,shuffle=False)\n",
    "print('train size',len(train),'dev size',len(dev))\n",
    "train={\n",
    "    'questions':[x[0] for x in train],\n",
    "    'answers':[x[1] for x in train],\n",
    "}\n",
    "dev={\n",
    "    'questions':[x[0] for x in dev],\n",
    "    'answers':[x[1] for x in dev],\n",
    "}\n"
   ]
  },
  {
   "cell_type": "code",
   "execution_count": 13,
   "metadata": {},
   "outputs": [
    {
     "name": "stdout",
     "output_type": "stream",
     "text": [
      "[train] size of unique answers: 54970\n",
      "[train] size of unique questions: 78633\n",
      "[train] size of q-a pairs: 78839\n",
      "[dev] size of unique answers: 8351\n",
      "[dev] size of unique questions: 8755\n",
      "[dev] size of q-a pairs: 8760\n"
     ]
    }
   ],
   "source": [
    "conf={\n",
    "    'train':train,\n",
    "    'dev':dev\n",
    "}\n",
    "for name,data in conf.items():\n",
    "    # 处理答案\n",
    "    answer_dict={}\n",
    "    unique_answers=[]\n",
    "    with open(os.path.join(output_dir,f'{name}_corpus.tsv'),'w') as f:\n",
    "        # 答案语料\n",
    "        for answer in data['answers']:\n",
    "            if answer in answer_dict:\n",
    "                continue\n",
    "            idx=len(answer_dict)\n",
    "            unique_answers.append(answer)\n",
    "            answer_dict[answer]=idx\n",
    "        print(f'[{name}] size of unique answers:',len(unique_answers))\n",
    "        for idx,answer in enumerate(unique_answers):\n",
    "            f.write(f'{idx}\\t-\\t{answer}\\n')\n",
    "        # 问题\n",
    "        question_dict={}\n",
    "        unique_questions=[]\n",
    "        with open(os.path.join(output_dir,f'{name}_query.txt'),'w') as f:\n",
    "            for q in data['questions']:\n",
    "                if q in question_dict:\n",
    "                    continue\n",
    "                idx=len(question_dict)\n",
    "                unique_questions.append(q)\n",
    "                question_dict[q]=idx\n",
    "            print(f'[{name}] size of unique questions:',len(unique_questions))\n",
    "            for idx,q in enumerate(unique_questions):\n",
    "                f.write(f'{idx}\\t{q}\\n')\n",
    "        # rels 里的格式是一行一对，一对多的分多行，参考msmacro dev里的 178627\n",
    "        with open(os.path.join(output_dir,f'qrels_{name}.tsv'),'w') as f:\n",
    "            for q,a in zip(data['questions'],data['answers']):\n",
    "                q_id=question_dict[q]\n",
    "                a_id=answer_dict[a]\n",
    "                f.write(f'{q_id}\\t{a_id}\\n')\n",
    "            print(f'[{name}] size of q-a pairs:',len(data['questions']))"
   ]
  },
  {
   "attachments": {},
   "cell_type": "markdown",
   "metadata": {},
   "source": [
    "## 接下来处理测试集，注意变量跟上面是重名的，为了方便"
   ]
  },
  {
   "cell_type": "code",
   "execution_count": 14,
   "metadata": {},
   "outputs": [
    {
     "data": {
      "text/plain": [
       "dict_keys(['questions', 'candidates', 'ground_truths'])"
      ]
     },
     "execution_count": 14,
     "metadata": {},
     "output_type": "execute_result"
    }
   ],
   "source": [
    "with open(reqa_test_json) as f:\n",
    "    data=json.load(f)\n",
    "data.keys()"
   ]
  },
  {
   "cell_type": "code",
   "execution_count": 15,
   "metadata": {},
   "outputs": [],
   "source": [
    "for key in data:\n",
    "    for i in range(len(data[key])):\n",
    "        if isinstance(data[key][i],str):\n",
    "            data[key][i]=data[key][i].replace('\\n',' ')"
   ]
  },
  {
   "cell_type": "code",
   "execution_count": 16,
   "metadata": {},
   "outputs": [
    {
     "name": "stdout",
     "output_type": "stream",
     "text": [
      "size of unique answers: 10246\n"
     ]
    }
   ],
   "source": [
    "answer_dict={}\n",
    "unique_answers=[]\n",
    "with open(os.path.join(output_dir,'test_corpus.tsv'),'w') as f:\n",
    "    for answer in data['candidates']:\n",
    "        if answer in answer_dict:\n",
    "            continue\n",
    "        idx=len(answer_dict)\n",
    "        unique_answers.append(answer)\n",
    "        answer_dict[answer]=idx\n",
    "    print('size of unique answers:',len(unique_answers))\n",
    "    for idx,answer in enumerate(unique_answers):\n",
    "        f.write(f'{idx}\\t-\\t{answer}\\n')"
   ]
  },
  {
   "cell_type": "code",
   "execution_count": 17,
   "metadata": {},
   "outputs": [
    {
     "name": "stdout",
     "output_type": "stream",
     "text": [
      "size of unique questions: 10539\n"
     ]
    }
   ],
   "source": [
    "question_dict={}\n",
    "unique_questions=[]\n",
    "with open(os.path.join(output_dir,'test_query.txt'),'w') as f:\n",
    "    for q in data['questions']:\n",
    "        if q in question_dict:\n",
    "            continue\n",
    "        idx=len(question_dict)\n",
    "        unique_questions.append(q)\n",
    "        question_dict[q]=idx\n",
    "    print('size of unique questions:',len(unique_questions))\n",
    "    for idx,q in enumerate(unique_questions):\n",
    "        f.write(f'{idx}\\t{q}\\n')"
   ]
  },
  {
   "cell_type": "code",
   "execution_count": 18,
   "metadata": {},
   "outputs": [
    {
     "name": "stdout",
     "output_type": "stream",
     "text": [
      "size of q-a pairs: 11396\n",
      "size of used answers: 7087\n"
     ]
    }
   ],
   "source": [
    "# rels 里的格式是一行一对，一对多的分多行，参考msmacro dev里的 178627\n",
    "used_answers=[]\n",
    "with open(os.path.join(output_dir,'qrels_test.tsv'),'w') as f:\n",
    "    cnt=0\n",
    "    for q,ground_truths in zip(data['questions'],data['ground_truths']):\n",
    "        for c_id in ground_truths:\n",
    "            a=data['candidates'][c_id]\n",
    "            used_answers.append(c_id)\n",
    "            q_id=question_dict[q]\n",
    "            a_id=answer_dict[a]\n",
    "            f.write(f'{q_id}\\t{a_id}\\n')\n",
    "            cnt+=1\n",
    "    print('size of q-a pairs:',cnt)\n",
    "    print('size of used answers:',len(set(used_answers)))\n"
   ]
  },
  {
   "cell_type": "code",
   "execution_count": null,
   "metadata": {},
   "outputs": [],
   "source": []
  }
 ],
 "metadata": {
  "kernelspec": {
   "display_name": "Python 3",
   "language": "python",
   "name": "python3"
  },
  "language_info": {
   "codemirror_mode": {
    "name": "ipython",
    "version": 3
   },
   "file_extension": ".py",
   "mimetype": "text/x-python",
   "name": "python",
   "nbconvert_exporter": "python",
   "pygments_lexer": "ipython3",
   "version": "3.8.13"
  },
  "orig_nbformat": 4,
  "vscode": {
   "interpreter": {
    "hash": "a872c9041ce0299b31a57e4b0373f87f3e846c1dede026ee1a0de5432b23cbb0"
   }
  }
 },
 "nbformat": 4,
 "nbformat_minor": 2
}
